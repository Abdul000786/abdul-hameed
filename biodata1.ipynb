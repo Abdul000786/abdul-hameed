{
 "cells": [
  {
   "cell_type": "raw",
   "metadata": {},
   "source": [
    "my name is abdul "
   ]
  },
  {
   "cell_type": "raw",
   "metadata": {},
   "source": [
    "i live in delhi at vijay enclave"
   ]
  },
  {
   "cell_type": "raw",
   "metadata": {},
   "source": [
    "i have done bsc physical science with computer science from delhi university in 2021"
   ]
  },
  {
   "cell_type": "raw",
   "metadata": {},
   "source": [
    "i belong to nuclear family  "
   ]
  },
  {
   "cell_type": "raw",
   "metadata": {},
   "source": [
    "including dad , my mom and elder brother "
   ]
  },
  {
   "cell_type": "raw",
   "metadata": {},
   "source": [
    "dad is a car mechanic , my mom is housewife and my brother has done hotel management form bahratarchariya university which in coimbtour and now he is doing job training at grand hayat hotel "
   ]
  },
  {
   "cell_type": "raw",
   "metadata": {},
   "source": [
    "my hobby is playing cricket and doing any kind of work with team "
   ]
  }
 ],
 "metadata": {
  "kernelspec": {
   "display_name": "Python 3",
   "language": "python",
   "name": "python3"
  },
  "language_info": {
   "codemirror_mode": {
    "name": "ipython",
    "version": 3
   },
   "file_extension": ".py",
   "mimetype": "text/x-python",
   "name": "python",
   "nbconvert_exporter": "python",
   "pygments_lexer": "ipython3",
   "version": "3.6.5"
  }
 },
 "nbformat": 4,
 "nbformat_minor": 2
}
